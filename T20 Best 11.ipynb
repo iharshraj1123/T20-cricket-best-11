{
 "cells": [
  {
   "cell_type": "code",
   "execution_count": 1,
   "metadata": {},
   "outputs": [],
   "source": [
    "from bs4 import BeautifulSoup\n",
    "import requests\n",
    "import pandas as pd\n",
    "import numpy as np\n",
    "import matplotlib.pyplot as plt"
   ]
  },
  {
   "cell_type": "code",
   "execution_count": 2,
   "metadata": {},
   "outputs": [],
   "source": [
    "url = \"https://stats.espncricinfo.com/ci/engine/records/team/match_results.html?id=14450;type=tournament\"\n",
    "response = requests.get(url)\n",
    "if response.status_code == 200:\n",
    "    html = response.text\n",
    "else:\n",
    "    print(f\"Failed to retrieve the webpage. Status code: {response.status_code}\")\n",
    "soup = BeautifulSoup(html,'html5lib')\n",
    "battingSummary = pd.read_csv('fact_bating_summary.csv')\n",
    "bowlingSummary = pd.read_csv('fact_bowling_summary.csv')"
   ]
  },
  {
   "cell_type": "code",
   "execution_count": 3,
   "metadata": {},
   "outputs": [],
   "source": [
    "tr = soup.find_all('tr')\n",
    "columns=tr[0].find_all('span')\n",
    "column_names=[]\n",
    "for i in range(len(columns)):\n",
    "    column_names.append(columns[i].get_text())\n",
    "matchSummary = pd.DataFrame(columns=column_names)\n",
    "for i in range(1,len(tr)):\n",
    "    spans = tr[i].find_all('span')\n",
    "    c1=spans[0].get_text()\n",
    "    c2=spans[1].get_text()\n",
    "    c3=spans[2].get_text()\n",
    "    c4=spans[3].get_text()\n",
    "    c5=spans[4].get_text()\n",
    "    c6=spans[5].get_text()\n",
    "    c7=spans[6].get_text()\n",
    "    new_row_data = {'Team 1': c1, 'Team 2': c2, 'Winner': c3, 'Margin': c4, 'Ground': c5, 'Match Date': c6, 'Scorecard': c7}\n",
    "    matchSummary = matchSummary.append(new_row_data, ignore_index=True)\n",
    "matchSummary.rename({\"Scorecard\":\"match_id\"}, axis = 1, inplace=True)    "
   ]
  },
  {
   "cell_type": "code",
   "execution_count": 4,
   "metadata": {},
   "outputs": [],
   "source": [
    "match_id_dict = {}\n",
    "for index, row in matchSummary.iterrows():\n",
    "    key1 = row['Team 1'] + ' Vs ' + row['Team 2']\n",
    "    key2 = row['Team 2'] + ' Vs ' + row['Team 1']\n",
    "    match_id_dict[key1] = row[\"match_id\"]\n",
    "    match_id_dict[key2] = row[\"match_id\"]"
   ]
  },
  {
   "cell_type": "code",
   "execution_count": null,
   "metadata": {},
   "outputs": [],
   "source": []
  }
 ],
 "metadata": {
  "kernelspec": {
   "display_name": "Python 3",
   "language": "python",
   "name": "python3"
  },
  "language_info": {
   "codemirror_mode": {
    "name": "ipython",
    "version": 3
   },
   "file_extension": ".py",
   "mimetype": "text/x-python",
   "name": "python",
   "nbconvert_exporter": "python",
   "pygments_lexer": "ipython3",
   "version": "3.8.5"
  }
 },
 "nbformat": 4,
 "nbformat_minor": 2
}
